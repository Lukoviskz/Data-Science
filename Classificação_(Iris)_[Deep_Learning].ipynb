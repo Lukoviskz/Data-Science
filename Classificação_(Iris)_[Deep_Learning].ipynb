{
  "nbformat": 4,
  "nbformat_minor": 0,
  "metadata": {
    "colab": {
      "provenance": []
    },
    "kernelspec": {
      "name": "python3",
      "display_name": "Python 3"
    },
    "language_info": {
      "name": "python"
    }
  },
  "cells": [
    {
      "cell_type": "code",
      "source": [
        "import torch\n",
        "import torch.nn as nn\n",
        "import torch.optim as optim\n",
        "from sklearn import datasets\n",
        "from sklearn.model_selection import train_test_split\n",
        "from sklearn.preprocessing import StandardScaler\n",
        "import numpy as np\n"
      ],
      "metadata": {
        "id": "La17ukR8CSSj"
      },
      "execution_count": 1,
      "outputs": []
    },
    {
      "cell_type": "code",
      "source": [
        "# Carregar o dataset Iris\n",
        "iris = datasets.load_iris()\n",
        "X = iris.data\n",
        "y = iris.target\n",
        "\n",
        "# Dividir em conjunto de treinamento e teste\n",
        "X_train, X_test, y_train, y_test = train_test_split(X, y, test_size=0.2, random_state=42)\n",
        "\n",
        "# Escalar os dados\n",
        "scaler = StandardScaler()\n",
        "X_train = scaler.fit_transform(X_train)\n",
        "X_test = scaler.transform(X_test)\n",
        "\n",
        "# Converter os dados para tensores do PyTorch\n",
        "X_train_tensor = torch.FloatTensor(X_train)\n",
        "y_train_tensor = torch.LongTensor(y_train)\n",
        "X_test_tensor = torch.FloatTensor(X_test)\n",
        "y_test_tensor = torch.LongTensor(y_test)\n"
      ],
      "metadata": {
        "id": "5SpzB0grCZog"
      },
      "execution_count": 2,
      "outputs": []
    },
    {
      "cell_type": "code",
      "source": [
        "class SimpleNN(nn.Module):\n",
        "    def __init__(self):\n",
        "        super(SimpleNN, self).__init__()\n",
        "        self.fc1 = nn.Linear(4, 10)  # 4 características de entrada\n",
        "        self.fc2 = nn.Linear(10, 3)   # 3 classes de saída\n",
        "\n",
        "    def forward(self, x):\n",
        "        x = torch.relu(self.fc1(x))\n",
        "        x = self.fc2(x)\n",
        "        return x\n"
      ],
      "metadata": {
        "id": "GKf62FyVCb0p"
      },
      "execution_count": 3,
      "outputs": []
    },
    {
      "cell_type": "code",
      "source": [
        "device = torch.device('cuda' if torch.cuda.is_available() else 'cpu')\n",
        "\n",
        "model = SimpleNN().to(device)\n",
        "criterion = nn.CrossEntropyLoss()\n",
        "optimizer = optim.Adam(model.parameters(), lr=0.01)\n",
        "\n",
        "num_epochs = 100  # Número de épocas para treinamento\n",
        "\n",
        "for epoch in range(num_epochs):\n",
        "    model.train()  # Colocar o modelo em modo de treinamento\n",
        "    optimizer.zero_grad()  # Zerando os gradientes\n",
        "\n",
        "    outputs = model(X_train_tensor.to(device))  # Passar os dados para o modelo\n",
        "    loss = criterion(outputs, y_train_tensor.to(device))  # Calcular a perda\n",
        "    loss.backward()  # Backpropagation\n",
        "    optimizer.step()  # Atualizar os pesos\n",
        "\n",
        "    if (epoch + 1) % 10 == 0:  # Exibir a perda a cada 10 épocas\n",
        "        print(f'Epoch [{epoch + 1}/{num_epochs}], Loss: {loss.item():.4f}')\n"
      ],
      "metadata": {
        "id": "He3MxifVCd-G",
        "colab": {
          "base_uri": "https://localhost:8080/"
        },
        "outputId": "e6658b9a-62cc-48e8-d93e-7de81655edbc"
      },
      "execution_count": 4,
      "outputs": [
        {
          "output_type": "stream",
          "name": "stdout",
          "text": [
            "Epoch [10/100], Loss: 0.7989\n",
            "Epoch [20/100], Loss: 0.5326\n",
            "Epoch [30/100], Loss: 0.3679\n",
            "Epoch [40/100], Loss: 0.2889\n",
            "Epoch [50/100], Loss: 0.2319\n",
            "Epoch [60/100], Loss: 0.1826\n",
            "Epoch [70/100], Loss: 0.1449\n",
            "Epoch [80/100], Loss: 0.1175\n",
            "Epoch [90/100], Loss: 0.0986\n",
            "Epoch [100/100], Loss: 0.0858\n"
          ]
        }
      ]
    },
    {
      "cell_type": "code",
      "source": [
        "model.eval()  # Colocar o modelo em modo de avaliação\n",
        "with torch.no_grad():\n",
        "    correct = 0\n",
        "    total = 0\n",
        "    outputs = model(X_test_tensor.to(device))\n",
        "    _, predicted = torch.max(outputs.data, 1)\n",
        "    total += y_test_tensor.size(0)\n",
        "    correct += (predicted == y_test_tensor.to(device)).sum().item()\n",
        "\n",
        "accuracy = 100 * correct / total\n",
        "print(f'Accuracy: {accuracy:.2f}%')\n"
      ],
      "metadata": {
        "id": "Xf8Oehq3ChBm",
        "colab": {
          "base_uri": "https://localhost:8080/"
        },
        "outputId": "9919b405-1d2b-413f-c8a6-4cba5a906f27"
      },
      "execution_count": 5,
      "outputs": [
        {
          "output_type": "stream",
          "name": "stdout",
          "text": [
            "Accuracy: 100.00%\n"
          ]
        }
      ]
    }
  ]
}